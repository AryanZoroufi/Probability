{
  "nbformat": 4,
  "nbformat_minor": 0,
  "metadata": {
    "colab": {
      "name": "Project2_prob.ipynb",
      "provenance": [],
      "collapsed_sections": []
    },
    "kernelspec": {
      "name": "python3",
      "display_name": "Python 3"
    }
  },
  "cells": [
    {
      "cell_type": "markdown",
      "metadata": {
        "id": "fQj88krFpFdy",
        "colab_type": "text"
      },
      "source": [
        "# Probability prioject 2\n",
        "\n",
        "* For best result please run the code in google colab enviroment in address below:\n",
        "\n",
        "https://colab.research.google.com/drive/1sOgrisag9SH0YKXypA5aYPKdfkP6qFgU?usp=sharing\n",
        "\n",
        "\n",
        "\n",
        "* if you want to run data in google colab platform please save a shortcut of this folder in your google drive:\n",
        "https://drive.google.com/drive/folders/1IrJadirBgegaEzUEQD0RGN3xIz-U7M8D?usp=sharing\n",
        "\n",
        "Writen by Aryan Zoroufi\n",
        "\n",
        "Contact: aryan@zoroufi.com"
      ]
    },
    {
      "cell_type": "markdown",
      "metadata": {
        "id": "gPt0Y9DGpXKa",
        "colab_type": "text"
      },
      "source": [
        "Imports:"
      ]
    },
    {
      "cell_type": "code",
      "metadata": {
        "id": "iUegybvXPOGx",
        "colab_type": "code",
        "colab": {}
      },
      "source": [
        "import numpy as np\n",
        "import pandas as pd\n",
        "import matplotlib.pyplot as plt\n",
        "import scipy.io\n",
        "from scipy.special import factorial"
      ],
      "execution_count": null,
      "outputs": []
    },
    {
      "cell_type": "markdown",
      "metadata": {
        "id": "3gt6G2qXpboU",
        "colab_type": "text"
      },
      "source": [
        "Define parameters of input data in a dict called \"params\":\n",
        "\n",
        "1. Assigned linspace to data\n",
        "\n",
        "2. Histogram array of data between -10 & 10 with 10 points between each 2 integer value(totally 200 bins)\n",
        "\n",
        "3. max value of histogram vector of data\n",
        "\n",
        "4. length of data\n",
        "\n",
        "5. Sum of input data\n",
        "\n",
        "6. Avrage of input data\n",
        "\n",
        "7. Standard deviation of input data"
      ]
    },
    {
      "cell_type": "code",
      "metadata": {
        "id": "LRYpbaY7ZKWG",
        "colab_type": "code",
        "colab": {}
      },
      "source": [
        "def parameters(data):\n",
        "    hist, bin_edge = np.histogram(data, bins = 201, density = True,range=(-10,10))  #histogram vector of data\n",
        "    x = np.linspace(-10, 10,num = 201)  #linspace between -10 and 10 with length of 201\n",
        "    params = {\n",
        "        'linspace' : x,\n",
        "        'hist_vec' : hist,\n",
        "        'max' : max(hist),\n",
        "        'length' : data.shape[0],\n",
        "        'sum' : np.sum(data),\n",
        "        'avg' : np.mean(data),\n",
        "        'sigma' : np.std(data)\n",
        "    }\n",
        "    return params"
      ],
      "execution_count": null,
      "outputs": []
    },
    {
      "cell_type": "markdown",
      "metadata": {
        "id": "5Q54zW0XqH2o",
        "colab_type": "text"
      },
      "source": [
        "# Normal(Guassian) Distribution:\n",
        "\n",
        "formula:\n",
        "\n",
        "![alt text](https://wikimedia.org/api/rest_v1/media/math/render/svg/00cb9b2c9b866378626bcfa45c86a6de2f2b2e40)\n",
        "\n",
        "miu : average\n",
        "\n",
        "sigma: standard deviation"
      ]
    },
    {
      "cell_type": "code",
      "metadata": {
        "id": "hQc-a3C0ZJJY",
        "colab_type": "code",
        "colab": {}
      },
      "source": [
        "def guassian(data, params):\n",
        "    x = params['linspace']\n",
        "    sigma = params['sigma']\n",
        "    avg = params['avg']\n",
        "    f = np.exp(-1/np.sqrt(2) * np.square((x - avg)/sigma)) / (np.sqrt(2 * np.pi) * sigma)\n",
        "    f = f * params['max'] / np.max(f)\n",
        "    model_params = {\n",
        "        'sigma' : sigma,\n",
        "        'miu' : avg\n",
        "    }\n",
        "    return f, model_params"
      ],
      "execution_count": null,
      "outputs": []
    },
    {
      "cell_type": "markdown",
      "metadata": {
        "id": "fyDYG-HSsdNh",
        "colab_type": "text"
      },
      "source": [
        "# Exponential distribution:\n",
        "\n",
        "formula:\n",
        "\n",
        "![alt text](https://wikimedia.org/api/rest_v1/media/math/render/svg/a693ce9cd1fcd15b0732ff5c5b8040c359cc9332)\n",
        "\n",
        "![alt text](https://wikimedia.org/api/rest_v1/media/math/render/svg/cb70cd5f0ecd70226fa8c17e9df78e351eaa7b02)\n"
      ]
    },
    {
      "cell_type": "code",
      "metadata": {
        "id": "9nnmgxvFSN2W",
        "colab_type": "code",
        "colab": {}
      },
      "source": [
        "def exponential(data, params):\n",
        "    x = params['linspace'][101:]\n",
        "    lambd = params['length'] / params['sum']\n",
        "    f = lambd * np.exp(-lambd * x)\n",
        "    f = f * params['max'] / np.max(f)\n",
        "    zero_vec = np.zeros((1,101))[0]\n",
        "    result = np.concatenate((zero_vec, f), axis = 0)\n",
        "    model_params = {\n",
        "        'lambda' : lambd,\n",
        "    }\n",
        "    return result, model_params"
      ],
      "execution_count": null,
      "outputs": []
    },
    {
      "cell_type": "markdown",
      "metadata": {
        "id": "1U5HZQGAtEvc",
        "colab_type": "text"
      },
      "source": [
        "# Rayleigh Distribution\n",
        "\n",
        "formula:\n",
        "\n",
        "![alt text](https://wikimedia.org/api/rest_v1/media/math/render/svg/0d1c19c9c69e91d5c330cb23b34ee2a431ef8c2b)\n",
        "\n",
        "![alt text](https://wikimedia.org/api/rest_v1/media/math/render/svg/76ac981cd00297e54656a9fdf1579d25f905eca4)"
      ]
    },
    {
      "cell_type": "code",
      "metadata": {
        "id": "TasCsUrmbZ6I",
        "colab_type": "code",
        "colab": {}
      },
      "source": [
        "def rayleigh(data,params):\n",
        "    x = params['linspace'][101:]\n",
        "    max_val = params['max']\n",
        "    m = params['length']\n",
        "    sigma = np.sqrt(1/(2*m) * np.sum(data**2))\n",
        "    f = x / np.square(sigma) * np.exp(-1/2 * np.square(x/sigma))\n",
        "    f = f * max_val / np.max(f)\n",
        "    zero_vec = np.zeros((1,101))[0]\n",
        "    result = np.concatenate((zero_vec, f), axis = 0)\n",
        "    model_params = {\n",
        "        'sigma2' : np.square(sigma)\n",
        "    }\n",
        "    return result, model_params"
      ],
      "execution_count": null,
      "outputs": []
    },
    {
      "cell_type": "markdown",
      "metadata": {
        "id": "hGyh8bhZvDOV",
        "colab_type": "text"
      },
      "source": [
        "# Laplace Distribution\n",
        "\n",
        "formula:\n",
        "\n",
        "![alt text](https://wikimedia.org/api/rest_v1/media/math/render/svg/210306e18c75c252ce85eb79c3af18bb5c8dd1a8)\n",
        "\n",
        "![alt text](https://wikimedia.org/api/rest_v1/media/math/render/svg/1129c2bd7c57a9520827c012f263c465ae095df0)"
      ]
    },
    {
      "cell_type": "code",
      "metadata": {
        "id": "8BidJ0SIczRq",
        "colab_type": "code",
        "colab": {}
      },
      "source": [
        "def laplace(data, params):\n",
        "    x = params['linspace']\n",
        "    max_val = params['max']\n",
        "    b = 1 / (2 * max_val)\n",
        "    f = 1/(2*b) * np.exp(-1/b * np.abs(x - np.mean(data)))\n",
        "    f = f * params['max'] / np.max(f)\n",
        "    model_params = {\n",
        "        'miu' : np.mean(data),\n",
        "        'b' : b\n",
        "    }\n",
        "    return f, model_params"
      ],
      "execution_count": null,
      "outputs": []
    },
    {
      "cell_type": "markdown",
      "metadata": {
        "id": "7P75izwayc1d",
        "colab_type": "text"
      },
      "source": [
        "# Uniform distribution\n",
        "\n",
        "formula:\n",
        "\n",
        "![alt text](https://wikimedia.org/api/rest_v1/media/math/render/svg/b701524dbfea89ed90316dbc48c5b62954d7411c)\n"
      ]
    },
    {
      "cell_type": "code",
      "metadata": {
        "id": "ghEivovWgDsf",
        "colab_type": "code",
        "colab": {}
      },
      "source": [
        "def uniform(data, params):\n",
        "    f = np.zeros((201))\n",
        "    a = int((np.min(data) + 10) * 10)\n",
        "    b = int((np.max(data) + 10) * 10)\n",
        "    f[a:b] = 1 / (b-a)\n",
        "    f = f * params['max'] / np.max(f)\n",
        "    model_params = {\n",
        "        'a' : a,\n",
        "        'b' : b\n",
        "    }\n",
        "    return f, model_params"
      ],
      "execution_count": null,
      "outputs": []
    },
    {
      "cell_type": "markdown",
      "metadata": {
        "id": "MMHT6kBGy4O3",
        "colab_type": "text"
      },
      "source": [
        "# Geometric distribution\n",
        "\n",
        "formula:\n",
        "\n",
        "![alt text](https://wikimedia.org/api/rest_v1/media/math/render/svg/0dcd47653aadb93e0eed01c13ce52819e5ef6c89)\n",
        "\n",
        "![alt text](https://wikimedia.org/api/rest_v1/media/math/render/svg/218314c20a565b7a8e28b2971af2ad03cfcab767)"
      ]
    },
    {
      "cell_type": "code",
      "metadata": {
        "id": "CmMvHpX-JEL3",
        "colab_type": "code",
        "colab": {}
      },
      "source": [
        "def geometric(data, params):\n",
        "    x = np.linspace(0,10, num = 11)\n",
        "    p = params['length'] / np.sum(data)\n",
        "    f = np.power(1 - p, x - 1) * p\n",
        "    f = f * np.max(params['hist_vec']) / np.max(f)\n",
        "    result = np.zeros((1,201))[0]\n",
        "    result[100::10] = f\n",
        "    model_params = {\n",
        "        'p' : p\n",
        "    }\n",
        "    return result, model_params"
      ],
      "execution_count": null,
      "outputs": []
    },
    {
      "cell_type": "markdown",
      "metadata": {
        "id": "EbJAgN0vzM33",
        "colab_type": "text"
      },
      "source": [
        "# Poisson distribution:\n",
        "\n",
        "formula:\n",
        "\n",
        "![alt text](https://wikimedia.org/api/rest_v1/media/math/render/svg/c22cb4461e100a6db5f815de1f44b1747f160048)\n",
        "\n",
        "![alt text](https://wikimedia.org/api/rest_v1/media/math/render/svg/4227bbed2a2ba86a54bc4fd5171e8cffa1f74dbd)"
      ]
    },
    {
      "cell_type": "code",
      "metadata": {
        "id": "Qz24UKAV66cR",
        "colab_type": "code",
        "colab": {}
      },
      "source": [
        "def poisson(data, params):\n",
        "    x = np.linspace(0,10, num = 11)\n",
        "    n = data.shape[0]\n",
        "    lambd = params['sum'] / params['length']\n",
        "    f = np.power(lambd, x) * np.exp(-lambd) / factorial(x)\n",
        "    f = f * params['max'] / np.max(f)\n",
        "    result = np.zeros((1,201))[0]\n",
        "    result[100::10] = f\n",
        "    model_params = {\n",
        "        'lambda' : lambd\n",
        "    }\n",
        "    return result, model_params"
      ],
      "execution_count": null,
      "outputs": []
    },
    {
      "cell_type": "markdown",
      "metadata": {
        "id": "iuiN1Ke5zu2b",
        "colab_type": "text"
      },
      "source": [
        "# Calculate mean square error between histogram of data and model to find error of model"
      ]
    },
    {
      "cell_type": "code",
      "metadata": {
        "id": "044SryhqDvhj",
        "colab_type": "code",
        "colab": {}
      },
      "source": [
        "def ms_error(data, params, model):\n",
        "    f,_  = model(data, params)\n",
        "    hist = params['hist_vec']\n",
        "    error = np.sum((hist - f)**2)\n",
        "    return error"
      ],
      "execution_count": null,
      "outputs": []
    },
    {
      "cell_type": "markdown",
      "metadata": {
        "id": "MGc-NCOp0_cv",
        "colab_type": "text"
      },
      "source": [
        "# Find the model with least mean-square error and name it as the best model"
      ]
    },
    {
      "cell_type": "code",
      "metadata": {
        "id": "kIJHoW8BFHSH",
        "colab_type": "code",
        "colab": {}
      },
      "source": [
        "def best_estimator(data, params):\n",
        "    models = np.array([guassian, exponential,rayleigh,laplace,uniform,geometric,poisson])\n",
        "    error = [ms_error(data, params, i) for i in models]\n",
        "    a = error == np.min(error)\n",
        "    best_model = models[error == np.min(error)][0]\n",
        "    f, model_params = best_model(data, params)\n",
        "    cache = {\n",
        "        'model name' : best_model.__name__,\n",
        "        'error' : np.min(error),\n",
        "        'model_params' : model_params\n",
        "    }\n",
        "    return f, cache"
      ],
      "execution_count": null,
      "outputs": []
    },
    {
      "cell_type": "markdown",
      "metadata": {
        "id": "Tzm_n9P5oeta",
        "colab_type": "text"
      },
      "source": [
        "# Import data\n",
        "\n",
        "If you are not using Google Colab platform, please comment this cell and import the file from your PC"
      ]
    },
    {
      "cell_type": "code",
      "metadata": {
        "id": "3cJX_6IIST3K",
        "colab_type": "code",
        "colab": {
          "base_uri": "https://localhost:8080/",
          "height": 34
        },
        "outputId": "04659def-2a38-4fb6-ad3e-ea13bc5ea3a9"
      },
      "source": [
        "from google.colab import drive\n",
        "drive.mount('/content/drive')\n",
        "path  = '/content/drive/My Drive/Probability/Data8.mat'\n",
        "init_data = scipy.io.loadmat(path)\n",
        "data = init_data['data8'].flatten()"
      ],
      "execution_count": null,
      "outputs": [
        {
          "output_type": "stream",
          "text": [
            "Drive already mounted at /content/drive; to attempt to forcibly remount, call drive.mount(\"/content/drive\", force_remount=True).\n"
          ],
          "name": "stdout"
        }
      ]
    },
    {
      "cell_type": "markdown",
      "metadata": {
        "id": "MW3VZUeoppyZ",
        "colab_type": "text"
      },
      "source": [
        "# Main session\n",
        "\n",
        "Find the best estimator using functions and fit it on data and print model name and model parameters"
      ]
    },
    {
      "cell_type": "code",
      "metadata": {
        "id": "akkSvZscd79f",
        "colab_type": "code",
        "colab": {
          "base_uri": "https://localhost:8080/",
          "height": 68
        },
        "outputId": "622d17c9-1634-425c-c0b5-f52385fbd99d"
      },
      "source": [
        "params = parameters(data)\n",
        "f, model = best_estimator(data, params)\n",
        "print(\"best fitting model = \" + model['model name'].format())\n",
        "print(\"Mean Square Error = \" + str(model['error']))\n",
        "print(\"Model Parameters = \" + str(model['model_params']))"
      ],
      "execution_count": null,
      "outputs": [
        {
          "output_type": "stream",
          "text": [
            "best fitting model = poisson\n",
            "Mean Square Error = 0.03596073733728766\n",
            "Model Parameters = {'lambda': 1.1030927835051547}\n"
          ],
          "name": "stdout"
        }
      ]
    },
    {
      "cell_type": "markdown",
      "metadata": {
        "id": "yrYUnBvsqDcz",
        "colab_type": "text"
      },
      "source": [
        "# Plot the data and model in seperated figures"
      ]
    },
    {
      "cell_type": "code",
      "metadata": {
        "id": "9uHYMgWrffdX",
        "colab_type": "code",
        "colab": {
          "base_uri": "https://localhost:8080/",
          "height": 870
        },
        "outputId": "5060608e-f03a-4c45-b3ae-19da5be51f99"
      },
      "source": [
        "plt.figure(figsize=(30,10))\n",
        "x = params['linspace']\n",
        "a = plt.hist(data,bins=201,range=(-10,10), density= True, color='g')\n",
        "plt.figure(figsize=(30,10))\n",
        "plt.plot(x,f,'b')"
      ],
      "execution_count": null,
      "outputs": [
        {
          "output_type": "execute_result",
          "data": {
            "text/plain": [
              "[<matplotlib.lines.Line2D at 0x7fd296377048>]"
            ]
          },
          "metadata": {
            "tags": []
          },
          "execution_count": 86
        },
        {
          "output_type": "display_data",
          "data": {
            "image/png": "[encoded data removed]",
            "text/plain": [
              "<Figure size 2160x720 with 1 Axes>"
            ]
          },
          "metadata": {
            "tags": [],
            "needs_background": "light"
          }
        },
        {
          "output_type": "display_data",
          "data": {
            "image/png": "[encoded data removed]",
            "text/plain": [
              "<Figure size 2160x720 with 1 Axes>"
            ]
          },
          "metadata": {
            "tags": [],
            "needs_background": "light"
          }
        }
      ]
    },
    {
      "cell_type": "markdown",
      "metadata": {
        "id": "v4seH1l9qKz3",
        "colab_type": "text"
      },
      "source": [
        "# Plot data and model in one figure"
      ]
    },
    {
      "cell_type": "code",
      "metadata": {
        "id": "g7gAiFA8TWg8",
        "colab_type": "code",
        "colab": {
          "base_uri": "https://localhost:8080/",
          "height": 452
        },
        "outputId": "27d5c44f-b03c-4162-ded0-a6042f58f477"
      },
      "source": [
        "plt.figure(figsize=(30,10))\n",
        "x = params['linspace']\n",
        "a = plt.hist(data,bins=201,range=(-10,10), density= True, color='g')\n",
        "plt.plot(x,f,'b')"
      ],
      "execution_count": null,
      "outputs": [
        {
          "output_type": "execute_result",
          "data": {
            "text/plain": [
              "[<matplotlib.lines.Line2D at 0x7fd295abaa90>]"
            ]
          },
          "metadata": {
            "tags": []
          },
          "execution_count": 87
        },
        {
          "output_type": "display_data",
          "data": {
            "image/png": "[encoded data removed]",
            "text/plain": [
              "<Figure size 2160x720 with 1 Axes>"
            ]
          },
          "metadata": {
            "tags": [],
            "needs_background": "light"
          }
        }
      ]
    }
  ]
}